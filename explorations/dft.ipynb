{
 "cells": [
  {
   "cell_type": "code",
   "execution_count": 13,
   "source": [
    "import numpy as np\n",
    "import matplotlib.pyplot as plt\n",
    "\n",
    "def dft(samples):\n",
    "  N = len(samples)\n",
    "  output = [0] * N\n",
    "\n",
    "  for k in range(0, N - 1):\n",
    "    freq = 2 * np.pi * k / N\n",
    "    real = 0\n",
    "    imag = 0\n",
    "\n",
    "    for t in range(0, N - 1):\n",
    "      real += np.cos(freq * t) * samples[t]\n",
    "      imag -= np.sin(freq * t) * samples[t]\n",
    "      \n",
    "    output[k] = np.sqrt(real ** 2 + imag ** 2) / N\n",
    "\n",
    "  return output\n",
    "\n",
    "Fs = 4000\n",
    "dt = 1 / Fs\n",
    "\n",
    "f0 = 440\n",
    "N = 1024\n",
    "\n",
    "t = np.linspace(0, (N - 1) * dt, N)\n",
    "\n",
    "df = Fs / N\n",
    "f = np.linspace(0, (N - 1) * df, N)\n",
    "\n",
    "y = 256 * np.sin(2 * np.pi * f0 * t)\n",
    "\n",
    "X = dft(y)\n",
    "\n",
    "plt.plot(f[0:int(N/2)], X[0:int(N/2)])"
   ],
   "outputs": [
    {
     "output_type": "execute_result",
     "data": {
      "text/plain": [
       "[<matplotlib.lines.Line2D at 0x7f3077440730>]"
      ]
     },
     "metadata": {},
     "execution_count": 13
    },
    {
     "output_type": "display_data",
     "data": {
      "text/plain": [
       "<Figure size 432x288 with 1 Axes>"
      ],
      "image/png": "[encoded data removed]"
     },
     "metadata": {
      "needs_background": "light"
     }
    }
   ],
   "metadata": {}
  }
 ],
 "metadata": {
  "interpreter": {
   "hash": "31f2aee4e71d21fbe5cf8b01ff0e069b9275f58929596ceb00d14d90e3e16cd6"
  },
  "kernelspec": {
   "display_name": "Python 3.8.5 64-bit",
   "name": "python3"
  },
  "language_info": {
   "codemirror_mode": {
    "name": "ipython",
    "version": 3
   },
   "file_extension": ".py",
   "mimetype": "text/x-python",
   "name": "python",
   "nbconvert_exporter": "python",
   "pygments_lexer": "ipython3",
   "version": "3.8.5"
  },
  "orig_nbformat": 4
 },
 "nbformat": 4,
 "nbformat_minor": 2
}