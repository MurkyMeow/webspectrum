{
 "cells": [
  {
   "cell_type": "code",
   "execution_count": 6,
   "source": [
    "import numpy as np\n",
    "\n",
    "# SOME REASONINGS ABOUT HOW DFT WORKS\n",
    "\n",
    "# so the same way we can find how similar 2 vectors are\n",
    "# by adding up the products of their coordinates\n",
    "# i.e. dot product x1 * x2 + y1 * y2 + ...\n",
    "\n",
    "# we can find how similar 2 FUNCTIONS are\n",
    "# by summing the products of their values\n",
    "# i.e. f(x0) * g(x0) + f(x1) * g(x1) + ...\n",
    "\n",
    "# that would be their CORRELATION\n",
    "\n",
    "# in Fourier Analysis we want to extract frequencies from a signal\n",
    "# to do that we take a set of frequencies\n",
    "# and for each frequency from that set\n",
    "# we define a sinusoid AT THAT FREQUENCY\n",
    "# and correlate it with the signal\n",
    "# if the correlation is big then the frequency is likely to be present in the signal\n",
    "\n",
    "# FOR EXAMPLE let's take a signal with a frequency of 400Hz\n",
    "\n",
    "# of course we need to pick a discretization frequency for the signal\n",
    "Fs = 1000\n",
    "\n",
    "# and a number of samples that we will consider (can't consider an infinite range)\n",
    "N = 1024\n",
    "\n",
    "# this is the distance between samples in time\n",
    "dt = 1 / Fs\n",
    "\n",
    "# time, equally spaced points\n",
    "t = np.linspace(0, (N - 1) * dt, N)\n",
    "\n",
    "# the 400Hz signal\n",
    "y = np.sin(400 * 2 * np.pi * t)\n",
    "\n",
    "# let's try correlating it with a 300Hz sinusoid\n",
    "x = np.sin(300 * 2 * np.pi * t)\n",
    "print(np.sum(y * x))\n",
    "\n",
    "# ^ it evaluates to a small near-zero value hence no correlation at 300Hz\n",
    "\n",
    "# now let's correlate it at the exact frequency of the signal\n",
    "x = np.sin(400 * 2 * np.pi * t)\n",
    "print(np.sum(y * x))\n",
    "\n",
    "# ^ it will evaluate to a large value hence there's a correlation"
   ],
   "outputs": [
    {
     "output_type": "stream",
     "name": "stdout",
     "text": [
      "0.559016994377084\n",
      "512.154508497189\n"
     ]
    }
   ],
   "metadata": {}
  },
  {
   "cell_type": "code",
   "execution_count": null,
   "source": [],
   "outputs": [],
   "metadata": {}
  },
  {
   "cell_type": "code",
   "execution_count": 14,
   "source": [
    "import numpy as np\n",
    "import matplotlib.pyplot as plt\n",
    "\n",
    "# now we extend this idea to extract A SET of frequencies instead of just one frequency\n",
    "# but which frequencies should be in that set?\n",
    "\n",
    "# by Nyquist Theorem we know that we can't detect frequencies\n",
    "# higher than half of our discretization rate so Fmax = Fs / 2\n",
    "# for simplicity let's ignore the denominator and just say that Fmax = Fs\n",
    "# we'll take Fmin = 0, since negative frequencies don't make sense in our context\n",
    "\n",
    "# now we have a continous range of frequencies from 0 to Fs that we can look for in a signal\n",
    "# we can't look at every single frequency in that range so we discretize it\n",
    "\n",
    "# we do this by dividing it into N number of equally spaced points\n",
    "# where N is the number of samples\n",
    "\n",
    "# so the distance between each frequency df is\n",
    "# df = Fs / N\n",
    "\n",
    "# if the amount of samples is small then\n",
    "# the distance between frequencies is big\n",
    "# so we have a poor FREQUENCY RESOLUTION\n",
    "# and as the amount of samples increases\n",
    "# the frequency resolution goes higher\n",
    "\n",
    "# which makes perfect sense as it's hard to decide\n",
    "# which frequencies are in a signal if we have only a few samples of it\n",
    "# and it gets increasingly more accurate as we increase the amount of samples\n",
    "\n",
    "# now let's codify this\n",
    "\n",
    "def dft(samples):\n",
    "  # dt = 1 / Fs - distance between samples in time\n",
    "  # df = Fs / N - distance between samples in frequency\n",
    "\n",
    "  # we have N frequencies and k-th frequency equals\n",
    "  # f_k = k * df = k * Fs / N\n",
    "  \n",
    "  # we have N time points and n-th time value equals\n",
    "  # t_n = n * dt = n / Fs\n",
    "\n",
    "  # our sinusoid will look like this\n",
    "  # sin(2 * pi * f_k * t_n)\n",
    "\n",
    "  # after substituting and simplifying everything we get\n",
    "  # sin(2 * pi * k * n / N)\n",
    "\n",
    "  # note that the discretization frequency cancelled out\n",
    "  # so we don't need to know about it here!\n",
    "\n",
    "  N = len(samples)\n",
    "  output = [0] * N\n",
    "\n",
    "  for k in range(0, N - 1):\n",
    "    correlation = 0\n",
    "\n",
    "    for n in range(0, N - 1):\n",
    "      correlation += samples[n] * np.sin(2 * np.pi * k * n / N)\n",
    "\n",
    "    # taking abs because correlation can go negative\n",
    "    # but we're only interested in how far away it's from zero\n",
    "    output[k] = abs(correlation)\n",
    "\n",
    "  return output\n",
    "\n",
    "# setup some test data\n",
    "N = 1024\n",
    "\n",
    "Fs = 4000\n",
    "dt = 1 / Fs\n",
    "df = Fs / N\n",
    "\n",
    "t = np.linspace(0, (N - 1) * dt, N)\n",
    "f = np.linspace(0, (N - 1) * df, N)\n",
    "\n",
    "# signal frequency\n",
    "f0 = 440\n",
    "# actual signal\n",
    "y = np.sin(2 * np.pi * f0 * t)\n",
    "\n",
    "X = dft(y)\n",
    "\n",
    "# drop values above the Nyquist frequency\n",
    "plt.plot(f[0:int(N/2)], X[0:int(N/2)])\n",
    "\n",
    "# ^ should diplsy a sharp peak around f0"
   ],
   "outputs": [
    {
     "output_type": "execute_result",
     "data": {
      "text/plain": [
       "[<matplotlib.lines.Line2D at 0x7f02f36e2f70>]"
      ]
     },
     "metadata": {},
     "execution_count": 14
    },
    {
     "output_type": "display_data",
     "data": {
      "text/plain": [
       "<Figure size 432x288 with 1 Axes>"
      ],
      "image/png": "[encoded data removed]"
     },
     "metadata": {
      "needs_background": "light"
     }
    }
   ],
   "metadata": {}
  }
 ],
 "metadata": {
  "interpreter": {
   "hash": "31f2aee4e71d21fbe5cf8b01ff0e069b9275f58929596ceb00d14d90e3e16cd6"
  },
  "kernelspec": {
   "display_name": "Python 3.8.5 64-bit",
   "name": "python3"
  },
  "language_info": {
   "codemirror_mode": {
    "name": "ipython",
    "version": 3
   },
   "file_extension": ".py",
   "mimetype": "text/x-python",
   "name": "python",
   "nbconvert_exporter": "python",
   "pygments_lexer": "ipython3",
   "version": "3.8.5"
  },
  "orig_nbformat": 4
 },
 "nbformat": 4,
 "nbformat_minor": 2
}